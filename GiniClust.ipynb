{
 "cells": [
  {
   "cell_type": "code",
   "execution_count": 1,
   "metadata": {},
   "outputs": [],
   "source": [
    "import scanpy as sc\n",
    "import numpy as np\n",
    "import giniclust3 as gc\n",
    "import anndata\n",
    "import time"
   ]
  },
  {
   "cell_type": "code",
   "execution_count": 2,
   "metadata": {},
   "outputs": [
    {
     "data": {
      "text/plain": [
       "'1.1.0'"
      ]
     },
     "execution_count": 2,
     "metadata": {},
     "output_type": "execute_result"
    }
   ],
   "source": [
    "from importlib.metadata import version\n",
    "version('giniclust3')"
   ]
  },
  {
   "cell_type": "code",
   "execution_count": 3,
   "metadata": {},
   "outputs": [],
   "source": [
    "start = time.time()"
   ]
  },
  {
   "cell_type": "code",
   "execution_count": 4,
   "metadata": {
    "scrolled": true
   },
   "outputs": [],
   "source": [
    "dataset_directory=\"./Zhengmix8eq.csv\"\n",
    "adataRaw=sc.read_csv(dataset_directory,first_column_names=True)"
   ]
  },
  {
   "cell_type": "code",
   "execution_count": 5,
   "metadata": {},
   "outputs": [
    {
     "data": {
      "text/plain": [
       "AnnData object with n_obs × n_vars = 15716 × 3994"
      ]
     },
     "execution_count": 5,
     "metadata": {},
     "output_type": "execute_result"
    }
   ],
   "source": [
    "adataRaw"
   ]
  },
  {
   "cell_type": "code",
   "execution_count": 6,
   "metadata": {},
   "outputs": [],
   "source": [
    "sc.pp.filter_cells(adataRaw,min_genes=3)\n",
    "sc.pp.filter_genes(adataRaw,min_cells=100)"
   ]
  },
  {
   "cell_type": "code",
   "execution_count": 7,
   "metadata": {},
   "outputs": [],
   "source": [
    "###example csv file is col:cells X row:genes. Skip this step if the input matrix is col:genes X row:cells\n",
    "adataSC=anndata.AnnData(X=adataRaw.X.T,obs=adataRaw.var,var=adataRaw.obs)"
   ]
  },
  {
   "cell_type": "code",
   "execution_count": 8,
   "metadata": {},
   "outputs": [],
   "source": [
    "sc.pp.normalize_per_cell(adataSC, counts_per_cell_after=1e4)"
   ]
  },
  {
   "cell_type": "code",
   "execution_count": 9,
   "metadata": {
    "scrolled": true
   },
   "outputs": [
    {
     "name": "stdout",
     "output_type": "stream",
     "text": [
      "Gene number is 13001\n",
      "Cell number is 3994\n"
     ]
    },
    {
     "data": {
      "text/plain": [
       "Index(['ENSG00000117289', 'ENSG00000143546', 'ENSG00000163479',\n",
       "       'ENSG00000228474', 'ENSG00000152082', 'ENSG00000163466',\n",
       "       'ENSG00000169714', 'ENSG00000169567', 'ENSG00000213654',\n",
       "       'ENSG00000196262', 'ENSG00000106153', 'ENSG00000130429',\n",
       "       'ENSG00000133872', 'ENSG00000136888', 'ENSG00000107223',\n",
       "       'ENSG00000185201', 'ENSG00000130592', 'ENSG00000175390',\n",
       "       'ENSG00000109971', 'ENSG00000189403', 'ENSG00000188243',\n",
       "       'ENSG00000102524', 'ENSG00000100650', 'ENSG00000198668',\n",
       "       'ENSG00000198931', 'ENSG00000220205', 'ENSG00000118680',\n",
       "       'ENSG00000125534', 'ENSG00000099624', 'ENSG00000099622',\n",
       "       'ENSG00000127540', 'ENSG00000123144', 'ENSG00000130755',\n",
       "       'ENSG00000142227', 'ENSG00000104894', 'ENSG00000254709',\n",
       "       'ENSG00000128340'],\n",
       "      dtype='object')"
      ]
     },
     "execution_count": 9,
     "metadata": {},
     "output_type": "execute_result"
    }
   ],
   "source": [
    "gc.gini.calGini(adataSC)\n",
    "ind=[i for i, x in enumerate(adataSC.var['gini']) if x]\n",
    "adataSC.var.index[ind]"
   ]
  },
  {
   "cell_type": "code",
   "execution_count": 10,
   "metadata": {},
   "outputs": [],
   "source": [
    "#np.savetxt(\"./GiniClust_default_result.txt\", np.array(adataSC.var.index[ind]),fmt='%s' )"
   ]
  },
  {
   "cell_type": "code",
   "execution_count": 11,
   "metadata": {},
   "outputs": [],
   "source": [
    "end = time.time()"
   ]
  },
  {
   "cell_type": "code",
   "execution_count": 12,
   "metadata": {},
   "outputs": [],
   "source": [
    "running_time = end-start"
   ]
  }
 ],
 "metadata": {
  "kernelspec": {
   "display_name": "Python 3",
   "language": "python",
   "name": "python3"
  },
  "language_info": {
   "codemirror_mode": {
    "name": "ipython",
    "version": 3
   },
   "file_extension": ".py",
   "mimetype": "text/x-python",
   "name": "python",
   "nbconvert_exporter": "python",
   "pygments_lexer": "ipython3",
   "version": "3.8.5"
  }
 },
 "nbformat": 4,
 "nbformat_minor": 4
}
